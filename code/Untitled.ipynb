{
 "cells": [
  {
   "cell_type": "code",
   "execution_count": 1,
   "id": "45efc12e",
   "metadata": {},
   "outputs": [],
   "source": [
    "import pymysql"
   ]
  },
  {
   "cell_type": "code",
   "execution_count": 6,
   "id": "3dae99fe",
   "metadata": {},
   "outputs": [],
   "source": [
    "def create_database_connection():\n",
    "    connection = pymysql.connect(\n",
    "        host=\"localhost\",\n",
    "        user=\"root\",\n",
    "        password=\"020914@Pqs\",\n",
    "    )\n",
    "    return connection"
   ]
  },
  {
   "cell_type": "code",
   "execution_count": 8,
   "id": "bdf83e34",
   "metadata": {},
   "outputs": [],
   "source": [
    "def get_db_connection(database_name):\n",
    "    connection = pymysql.connect(\n",
    "        host=\"localhost\",\n",
    "        user=\"root\",\n",
    "        password=\"020914@Pqs\",\n",
    "        database=database_name\n",
    "    )\n",
    "    return connection"
   ]
  },
  {
   "cell_type": "code",
   "execution_count": 22,
   "id": "4b94d8d2",
   "metadata": {},
   "outputs": [],
   "source": [
    "cn = create_database_connection()"
   ]
  },
  {
   "cell_type": "code",
   "execution_count": 9,
   "id": "5bc53663",
   "metadata": {},
   "outputs": [],
   "source": [
    "cn.close()"
   ]
  },
  {
   "cell_type": "code",
   "execution_count": 36,
   "id": "662e9380",
   "metadata": {},
   "outputs": [],
   "source": [
    "connect = get_db_connection('hw3')"
   ]
  },
  {
   "cell_type": "code",
   "execution_count": 37,
   "id": "0da0d930",
   "metadata": {},
   "outputs": [
    {
     "data": {
      "text/plain": [
       "5"
      ]
     },
     "execution_count": 37,
     "metadata": {},
     "output_type": "execute_result"
    }
   ],
   "source": [
    "cursor = connect.cursor()\n",
    "cursor.execute(\"show tables;\")"
   ]
  },
  {
   "cell_type": "code",
   "execution_count": 38,
   "id": "c6b55df9",
   "metadata": {},
   "outputs": [
    {
     "data": {
      "text/plain": [
       "(('courses',), ('enrollments',), ('instructors',), ('students',), ('teaches',))"
      ]
     },
     "execution_count": 38,
     "metadata": {},
     "output_type": "execute_result"
    }
   ],
   "source": [
    "cursor.fetchall()"
   ]
  },
  {
   "cell_type": "code",
   "execution_count": 39,
   "id": "aeb56531",
   "metadata": {},
   "outputs": [],
   "source": [
    "connect.select_db('testing2')"
   ]
  },
  {
   "cell_type": "code",
   "execution_count": 40,
   "id": "308405ae",
   "metadata": {},
   "outputs": [
    {
     "data": {
      "text/plain": [
       "0"
      ]
     },
     "execution_count": 40,
     "metadata": {},
     "output_type": "execute_result"
    }
   ],
   "source": [
    "cursor.execute(\"show tables;\")"
   ]
  },
  {
   "cell_type": "code",
   "execution_count": null,
   "id": "a49e6787",
   "metadata": {},
   "outputs": [],
   "source": [
    "cursor.execute(\"create database if not exists testing2;\")"
   ]
  },
  {
   "cell_type": "code",
   "execution_count": null,
   "id": "ef036cc8",
   "metadata": {},
   "outputs": [],
   "source": []
  }
 ],
 "metadata": {
  "kernelspec": {
   "display_name": "Python [conda env:dsci]",
   "language": "python",
   "name": "conda-env-dsci-py"
  },
  "language_info": {
   "codemirror_mode": {
    "name": "ipython",
    "version": 3
   },
   "file_extension": ".py",
   "mimetype": "text/x-python",
   "name": "python",
   "nbconvert_exporter": "python",
   "pygments_lexer": "ipython3",
   "version": "3.12.7"
  }
 },
 "nbformat": 4,
 "nbformat_minor": 5
}
